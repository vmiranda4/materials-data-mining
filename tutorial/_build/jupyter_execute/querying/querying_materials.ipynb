{
 "cells": [
  {
   "cell_type": "markdown",
   "id": "c7d93c06",
   "metadata": {},
   "source": [
    "# Querying Materials Data from the Materials Project using Pymatgen\n",
    "\n",
    "In this tutorial, we will learn how to **query material data** from the [Materials Project](https://next-gen.materialsproject.org/) database using **pymatgen**, a powerful Python library for materials science.\n",
    "\n",
    "\n",
    "By the end of this tutorial, you will be able to:\n",
    "- Set up your **Materials Project API key**\n",
    "- Query materials by **formula**, **elements**, or **material ID**\n",
    "- Retrieve **structural**, **thermodynamic**, and **electronic** properties\n",
    "- Download `.cif` files for visualization and simulations\n",
    "- Perform a **sneak peek** into structure manipulation using pymatgen"
   ]
  },
  {
   "cell_type": "markdown",
   "id": "fe908985",
   "metadata": {},
   "source": [
    "In the previous tutorials we have become familiar with Materials Project and Pymatgen. Now we are going to use them together."
   ]
  },
  {
   "cell_type": "markdown",
   "id": "dfb2f0ba",
   "metadata": {},
   "source": [
    "---\n",
    "## Step 1 - Import Necessary Libraries"
   ]
  },
  {
   "cell_type": "code",
   "execution_count": 1,
   "id": "0a3fc679",
   "metadata": {},
   "outputs": [
    {
     "name": "stderr",
     "output_type": "stream",
     "text": [
      "/home/paladin/anaconda3/envs/matdata/lib/python3.11/site-packages/tqdm/auto.py:21: TqdmWarning: IProgress not found. Please update jupyter and ipywidgets. See https://ipywidgets.readthedocs.io/en/stable/user_install.html\n",
      "  from .autonotebook import tqdm as notebook_tqdm\n"
     ]
    }
   ],
   "source": [
    "# Import main tools\n",
    "from mp_api.client import MPRester\n",
    "from pymatgen.core import Structure\n",
    "\n",
    "# We will also use pandas to make the data more readable\n",
    "import pandas as pd"
   ]
  },
  {
   "cell_type": "markdown",
   "id": "7c469ea8",
   "metadata": {},
   "source": [
    "---\n",
    "## Step 2 - Setting Up the API Key\n",
    "\n",
    "To query the Materials Project database, you need an **API key**. This is necessary to make any request to the Materials Project API and there's a unique key for each Materials Project account.\n",
    "\n",
    "```{important}\n",
    "**You should not share your API key with anyone.**\n",
    "```\n",
    "\n",
    "**Steps to get you API key:**\n",
    "1. Go to [Materials Project](https://next-gen.materialsproject.org/)\n",
    "\n",
    "2. Log in or create a free account. This step was done when we were introducing Materials Project. If you need more guidance, please revisit the tutorial: [Exploring Materials Project](../materials_project/exploring_materials_project.ipynb)\n",
    "\n",
    "3. We are going to the main page of Materials Project after logging in, which should look like this:\n",
    "\n",
    "    <img src=\"../_static/images/querying/1_mp_mainpage.png\" width=700 style=margin:auto/>"
   ]
  },
  {
   "cell_type": "markdown",
   "id": "36a659d6",
   "metadata": {},
   "source": [
    "4. Then we go to the top right and click on the API button and it will shows us this new page:\n",
    "\n",
    "    <img src=\"../_static/images/querying/2_api.jpg\" width=700 style=margin:auto/>\n",
    "\n",
    "Your personal API key should appear where the red line is located in the image. You can select and copy it, and then paste it in the following cell as indicated:\n",
    "\n",
    "```{note}\n",
    "To run this notebook, you **must** provide your own Materials Project API key.\n",
    "Log in as indicated in [Materials Project](https://next-gen.materialsproject.org/) → Dashboard → API Key.\n",
    "Replace `\"YOUR_API_KEY_HERE\"` in the code cell below.\n"
   ]
  },
  {
   "cell_type": "code",
   "execution_count": 2,
   "id": "10adf6e9",
   "metadata": {},
   "outputs": [
    {
     "name": "stdout",
     "output_type": "stream",
     "text": [
      "⚠️ Please replace 'YOUR_API_KEY_HERE' with your Materials Project API key.\n"
     ]
    }
   ],
   "source": [
    "# Replace with your own API key! (keep the '' signs)\n",
    "API_KEY = \"YOUR_API_KEY_HERE\"\n",
    "\n",
    "if API_KEY == \"YOUR_API_KEY_HERE\":\n",
    "    print(\"⚠️ Please replace 'YOUR_API_KEY_HERE' with your Materials Project API key.\")\n",
    "    mpr = None\n",
    "else:\n",
    "    mpr = MPRester(API_KEY)\n",
    "    print(\"✅ MPRester initialized successfully!\")"
   ]
  },
  {
   "cell_type": "markdown",
   "id": "c4ca2b4c",
   "metadata": {},
   "source": [
    "---\n",
    "## Step 3 - Querying by Chemical Formula\n",
    "\n",
    "Let us start with a simple query: searching for all materials with the formula $\\text{CaTiO}_3$.\n",
    "\n",
    "`MPRester.query()` lets us specify:\n",
    "- The **criteria** (what we are looking for)\n",
    "- The **properties** (what we want return)\n",
    "\n",
    "For now, we will extract:\n",
    "- Material ID (`material_id`) $\\rightarrow$ Unique identifier used by Materials Project\n",
    "- Formula (`formula_pretty`) $\\rightarrow$ Simplified chemical formula\n",
    "- Formation energy per atom (`formation_energy_per_atom`) $\\rightarrow$ Energy required to form the compound (eV/atom)\n",
    "- Band gap (`band_gap`) $\\rightarrow$ Band gap energy in electronvolts (eV)"
   ]
  },
  {
   "cell_type": "markdown",
   "id": "8a751b75",
   "metadata": {},
   "source": [
    "There are plenty of properties to retrieve from the query. Here is a list of all of them:\n",
    "\n",
    "['builder_meta', 'nsites', 'elements', 'nelements', 'composition', 'composition_reduced', 'formula_pretty', 'formula_anonymous', 'chemsys', 'volume', 'density', 'density_atomic', 'symmetry', 'property_name', 'material_id', 'deprecated', 'deprecation_reasons', 'last_updated', 'origins', 'warnings', 'structure', 'task_ids', 'uncorrected_energy_per_atom', 'energy_per_atom', 'formation_energy_per_atom', 'energy_above_hull', 'is_stable', 'equilibrium_reaction_energy_per_atom', 'decomposes_to', 'xas', 'grain_boundaries', 'band_gap', 'cbm', 'vbm', 'efermi', 'is_gap_direct', 'is_metal', 'es_source_calc_id', 'bandstructure', 'dos', 'dos_energy_up', 'dos_energy_down', 'is_magnetic', 'ordering', 'total_magnetization', 'total_magnetization_normalized_vol', 'total_magnetization_normalized_formula_units', 'num_magnetic_sites', 'num_unique_magnetic_sites', 'types_of_magnetic_species', 'bulk_modulus', 'shear_modulus', 'universal_anisotropy', 'homogeneous_poisson', 'e_total', 'e_ionic', 'e_electronic', 'n', 'e_ij_max', 'weighted_surface_energy_EV_PER_ANG2', 'weighted_surface_energy', 'weighted_work_function', 'surface_anisotropy', 'shape_factor', 'has_reconstructed', 'possible_species', 'has_props', 'theoretical', 'database_Ids']\n"
   ]
  },
  {
   "cell_type": "code",
   "execution_count": 3,
   "id": "63daf992",
   "metadata": {},
   "outputs": [
    {
     "ename": "AttributeError",
     "evalue": "'NoneType' object has no attribute 'materials'",
     "output_type": "error",
     "traceback": [
      "\u001b[31m---------------------------------------------------------------------------\u001b[39m",
      "\u001b[31mAttributeError\u001b[39m                            Traceback (most recent call last)",
      "\u001b[36mCell\u001b[39m\u001b[36m \u001b[39m\u001b[32mIn[3]\u001b[39m\u001b[32m, line 2\u001b[39m\n\u001b[32m      1\u001b[39m \u001b[38;5;66;03m# Query CaTiO3 structures\u001b[39;00m\n\u001b[32m----> \u001b[39m\u001b[32m2\u001b[39m results = \u001b[43mmpr\u001b[49m\u001b[43m.\u001b[49m\u001b[43mmaterials\u001b[49m.summary.search(\n\u001b[32m      3\u001b[39m     formula=\u001b[33m\"\u001b[39m\u001b[33mCaTiO3\u001b[39m\u001b[33m\"\u001b[39m,\n\u001b[32m      4\u001b[39m     fields=[\n\u001b[32m      5\u001b[39m         \u001b[33m\"\u001b[39m\u001b[33mmaterial_id\u001b[39m\u001b[33m\"\u001b[39m,\n\u001b[32m      6\u001b[39m         \u001b[33m\"\u001b[39m\u001b[33mformula_pretty\u001b[39m\u001b[33m\"\u001b[39m,\n\u001b[32m      7\u001b[39m         \u001b[33m\"\u001b[39m\u001b[33mformation_energy_per_atom\u001b[39m\u001b[33m\"\u001b[39m,\n\u001b[32m      8\u001b[39m         \u001b[33m\"\u001b[39m\u001b[33mband_gap\u001b[39m\u001b[33m\"\u001b[39m\n\u001b[32m      9\u001b[39m     ]\n\u001b[32m     10\u001b[39m )\n\u001b[32m     12\u001b[39m \u001b[38;5;66;03m# Convert results to DataFrame\u001b[39;00m\n\u001b[32m     13\u001b[39m df = pd.DataFrame([\n\u001b[32m     14\u001b[39m     {\n\u001b[32m     15\u001b[39m         \u001b[33m\"\u001b[39m\u001b[33mmaterial_id\u001b[39m\u001b[33m\"\u001b[39m: r.material_id,\n\u001b[32m   (...)\u001b[39m\u001b[32m     20\u001b[39m     \u001b[38;5;28;01mfor\u001b[39;00m r \u001b[38;5;129;01min\u001b[39;00m results\n\u001b[32m     21\u001b[39m ])\n",
      "\u001b[31mAttributeError\u001b[39m: 'NoneType' object has no attribute 'materials'"
     ]
    }
   ],
   "source": [
    "# Query CaTiO3 structures\n",
    "results = mpr.materials.summary.search(\n",
    "    formula=\"CaTiO3\",\n",
    "    fields=[\n",
    "        \"material_id\",\n",
    "        \"formula_pretty\",\n",
    "        \"formation_energy_per_atom\",\n",
    "        \"band_gap\"\n",
    "    ]\n",
    ")\n",
    "\n",
    "# Convert results to DataFrame\n",
    "df = pd.DataFrame([\n",
    "    {\n",
    "        \"material_id\": r.material_id,\n",
    "        \"formula\": r.formula_pretty,\n",
    "        \"formation_energy\": r.formation_energy_per_atom,\n",
    "        \"band_gap\": r.band_gap\n",
    "    }\n",
    "    for r in results\n",
    "])\n",
    "\n",
    "df"
   ]
  },
  {
   "cell_type": "markdown",
   "id": "aceab18c",
   "metadata": {},
   "source": [
    "---\n",
    "## Step 4 - Querying by Material ID\n",
    "\n",
    "Suppose we want to retrieve detailed information for one specifi material. We will use its **Materials Project ID**"
   ]
  },
  {
   "cell_type": "code",
   "execution_count": 4,
   "id": "f684b825",
   "metadata": {},
   "outputs": [
    {
     "name": "stdout",
     "output_type": "stream",
     "text": [
      "Using material ID: mp-3442\n"
     ]
    },
    {
     "name": "stderr",
     "output_type": "stream",
     "text": [
      "Retrieving MaterialsDoc documents: 100%|██████████| 1/1 [00:00<00:00, 7557.30it/s]\n"
     ]
    },
    {
     "data": {
      "text/plain": [
       "Structure Summary\n",
       "Lattice\n",
       "    abc : 5.441143344248945 5.441143344248945 5.441143344248945\n",
       " angles : 120.84549073210634 120.84549073210634 88.54170096725916\n",
       " volume : 112.41312515722095\n",
       "      A : np.float64(-2.68573015) np.float64(2.68573015) np.float64(3.89611961)\n",
       "      B : np.float64(2.68573015) np.float64(-2.68573015) np.float64(3.89611961)\n",
       "      C : np.float64(2.68573015) np.float64(2.68573015) np.float64(-3.89611961)\n",
       "    pbc : True True True\n",
       "PeriodicSite: Ca (2.686, 0.0, 1.948) [0.25, 0.75, 0.5]\n",
       "PeriodicSite: Ca (-2.22e-16, 2.686, 1.948) [0.75, 0.25, 0.5]\n",
       "PeriodicSite: Ti (0.0, 0.0, 3.896) [0.5, 0.5, -0.0]\n",
       "PeriodicSite: Ti (0.0, 0.0, 0.0) [0.0, -0.0, -0.0]\n",
       "PeriodicSite: O (-1.028, 1.658, 3.896) [0.8087, 0.3087, 0.1174]\n",
       "PeriodicSite: O (1.028, 1.658, 2.22e-16) [0.3087, 0.1913, 0.5]\n",
       "PeriodicSite: O (1.658, 1.028, 3.896) [0.6913, 0.8087, 0.5]\n",
       "PeriodicSite: O (3.713, 1.028, 7.015e-17) [0.1913, 0.6913, 0.8826]\n",
       "PeriodicSite: O (-1.11e-16, 1.11e-16, 5.844) [0.75, 0.75, -0.0]\n",
       "PeriodicSite: O (0.0, 0.0, 1.948) [0.25, 0.25, -0.0]"
      ]
     },
     "execution_count": 4,
     "metadata": {},
     "output_type": "execute_result"
    }
   ],
   "source": [
    "# Pick the first material ID from our query\n",
    "material_id = df[\"material_id\"].iloc[0]\n",
    "print(\"Using material ID:\", material_id)\n",
    "\n",
    "# Fetch the structure directly\n",
    "structure = mpr.get_structure_by_material_id(material_id)\n",
    "structure"
   ]
  },
  {
   "cell_type": "markdown",
   "id": "7c2ccf23",
   "metadata": {},
   "source": [
    "---\n",
    "## Step 5 - Downloading the Structure as a `.cif` File\n",
    "\n",
    "Once we have the structure, we can save it locally in `.cif` format, which could be use for visualization, just like the previous tutorial, or simulations."
   ]
  },
  {
   "cell_type": "code",
   "execution_count": 5,
   "id": "1e46cd22",
   "metadata": {},
   "outputs": [
    {
     "name": "stdout",
     "output_type": "stream",
     "text": [
      "CIF file saved as 'CaTiO3_from_MP.cif'\n"
     ]
    }
   ],
   "source": [
    "# Save CIF file\n",
    "structure.to(filename=\"CaTiO3_from_MP.cif\")\n",
    "print(\"CIF file saved as 'CaTiO3_from_MP.cif'\")"
   ]
  },
  {
   "cell_type": "markdown",
   "id": "f43ba60c",
   "metadata": {},
   "source": [
    "---\n",
    "## Step 6 - Exploring Structure Properties\n",
    "\n",
    "Just as we learned on the previous tutorial, we can apply that knowledge and inspect the structure properties.\n",
    "\n",
    "- **Lattice parameters** (a, b, c)\n",
    "- **Angles** (α, β, γ)\n",
    "- **Number of sites**\n",
    "- **Atomic species**"
   ]
  },
  {
   "cell_type": "code",
   "execution_count": 6,
   "id": "b053fe34",
   "metadata": {},
   "outputs": [
    {
     "name": "stdout",
     "output_type": "stream",
     "text": [
      "Lattice parameters (Å): (5.441143344248945, 5.441143344248945, 5.441143344248945)\n",
      "Lattice angles (°): (120.84549073210634, 120.84549073210634, 88.54170096725916)\n",
      "Number of sites: 10\n",
      "Atomic species: [Element Ca, Element Ca, Element Ti, Element Ti, Element O, Element O, Element O, Element O, Element O, Element O]\n"
     ]
    }
   ],
   "source": [
    "# Lattice parameters\n",
    "lattice = structure.lattice\n",
    "print(\"Lattice parameters (Å):\", lattice.abc)\n",
    "print(\"Lattice angles (°):\", lattice.angles)\n",
    "print(\"Number of sites:\", len(structure))\n",
    "print(\"Atomic species:\", structure.species)"
   ]
  },
  {
   "cell_type": "markdown",
   "id": "bbf57909",
   "metadata": {},
   "source": [
    "---\n",
    "## Step 7 (optional) - Teaser: Structure Manipulation\n",
    "\n",
    "In materials science, it's often necessary to modify atomic structures to simulate real-world phenomena or design new materials. Two common manipulations are:\n",
    "\n",
    "- **Vacancy creation** → Removing an atom from the structure\n",
    "\n",
    "    - Useful for studying defects, diffusion, and electronic properties.\n",
    "\n",
    "- **Substitution** → Replacing one atom with a different element\n",
    "    - Used to model doping, alloying, and tuning material properties like band gaps or magnetism.\n",
    "\n",
    "These techniques allow researchers to predict how structural modifications influence material behavior, helping design more efficient semiconductors, batteries, catalysts, and more.\n",
    "\n",
    "### Code Example: Creating Vacancies and Substitutions\n",
    "\n",
    "Pymatgen lets us manipulate structures in powerful ways.  \n",
    "Here’s a **quick teaser**:\n",
    "- Create a **vacancy** by removing an atom\n",
    "- Substitute one atom for another"
   ]
  },
  {
   "cell_type": "code",
   "execution_count": 8,
   "id": "8d14235e",
   "metadata": {},
   "outputs": [
    {
     "name": "stdout",
     "output_type": "stream",
     "text": [
      "Original structure:\n",
      "Full Formula (Ca2 Ti2 O6)\n",
      "Reduced Formula: CaTiO3\n",
      "abc   :   5.441143   5.441143   5.441143\n",
      "angles: 120.845491 120.845491  88.541701\n",
      "pbc   :       True       True       True\n",
      "Sites (10)\n",
      "  #  SP           a          b          c    magmom\n",
      "---  ----  --------  ---------  ---------  --------\n",
      "  0  Ca    0.25       0.75       0.5             -0\n",
      "  1  Ca    0.75       0.25       0.5             -0\n",
      "  2  Ti    0.5        0.5       -0               -0\n",
      "  3  Ti    0         -0         -0               -0\n",
      "  4  O     0.808697   0.308697   0.117394         0\n",
      "  5  O     0.308697   0.191303   0.5              0\n",
      "  6  O     0.691303   0.808697   0.5              0\n",
      "  7  O     0.191303   0.691303   0.882606         0\n",
      "  8  O     0.75       0.75      -0               -0\n",
      "  9  O     0.25       0.25      -0               -0\n",
      "\n",
      "Structure after creating a Ca vacancy:\n",
      "Full Formula (Ca1 Ti2 O6)\n",
      "Reduced Formula: CaTi2O6\n",
      "abc   :   5.441143   5.441143   5.441143\n",
      "angles: 120.845491 120.845491  88.541701\n",
      "pbc   :       True       True       True\n",
      "Sites (9)\n",
      "  #  SP           a          b          c    magmom\n",
      "---  ----  --------  ---------  ---------  --------\n",
      "  0  Ca    0.75       0.25       0.5             -0\n",
      "  1  Ti    0.5        0.5       -0               -0\n",
      "  2  Ti    0         -0         -0               -0\n",
      "  3  O     0.808697   0.308697   0.117394         0\n",
      "  4  O     0.308697   0.191303   0.5              0\n",
      "  5  O     0.691303   0.808697   0.5              0\n",
      "  6  O     0.191303   0.691303   0.882606         0\n",
      "  7  O     0.75       0.75      -0               -0\n",
      "  8  O     0.25       0.25      -0               -0\n"
     ]
    }
   ],
   "source": [
    "print(\"Original structure:\")\n",
    "print(structure)\n",
    "\n",
    "# --- 1. Creating a vacancy ---\n",
    "# Let's remove the first calcium atom\n",
    "vacancy_structure = structure.copy()\n",
    "vacancy_structure.remove_sites([0])  # Index of the atom to remove\n",
    "\n",
    "print(\"\\nStructure after creating a Ca vacancy:\")\n",
    "print(vacancy_structure)"
   ]
  },
  {
   "cell_type": "code",
   "execution_count": 7,
   "id": "fe118514",
   "metadata": {},
   "outputs": [
    {
     "name": "stdout",
     "output_type": "stream",
     "text": [
      "Original species: [Element Ca, Element Ca, Element Ti, Element Ti, Element O, Element O, Element O, Element O, Element O, Element O]\n",
      "After substitution: [Element Ca, Element Ca, Element Zr, Element Zr, Element O, Element O, Element O, Element O, Element O, Element O]\n"
     ]
    }
   ],
   "source": [
    "from pymatgen.transformations.standard_transformations import SubstitutionTransformation\n",
    "\n",
    "# Substitute Ti with Zr\n",
    "transformation = SubstitutionTransformation({\"Ti\": \"Zr\"})\n",
    "substituted_structure = transformation.apply_transformation(structure)\n",
    "\n",
    "print(\"Original species:\", structure.species)\n",
    "print(\"After substitution:\", substituted_structure.species)"
   ]
  },
  {
   "cell_type": "markdown",
   "id": "23add219",
   "metadata": {},
   "source": [
    "---\n",
    "## Step 8 - Summary\n",
    "\n",
    "In this tutorial, we learned how to:\n",
    "- Set up and authenticate with the **Materials Project API**\n",
    "- Query materials by formula, elements, or material ID\n",
    "- Retrieve properties like formation energy, band gap, and crystal system\n",
    "- Save structures as `.cif` files\n",
    "- Peek into **pymatgen’s structure manipulation capabilities**\n",
    "\n",
    "---\n",
    "\n",
    "### Next Steps\n",
    "\n",
    "In the next tutorial, we’ll:\n",
    "- Perform **data mining** using Materials Project queries\n",
    "- Analyze **large sets of materials** to extract trends and correlations  \n",
    "- Use plots and statistics to gain insights into **materials properties**\n",
    "\n",
    "---\n"
   ]
  }
 ],
 "metadata": {
  "kernelspec": {
   "display_name": "matdata",
   "language": "python",
   "name": "python3"
  },
  "language_info": {
   "codemirror_mode": {
    "name": "ipython",
    "version": 3
   },
   "file_extension": ".py",
   "mimetype": "text/x-python",
   "name": "python",
   "nbconvert_exporter": "python",
   "pygments_lexer": "ipython3",
   "version": "3.11.13"
  }
 },
 "nbformat": 4,
 "nbformat_minor": 5
}