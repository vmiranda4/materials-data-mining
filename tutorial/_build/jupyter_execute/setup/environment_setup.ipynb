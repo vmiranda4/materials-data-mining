{
 "cells": [
  {
   "cell_type": "markdown",
   "id": "ed965cfb",
   "metadata": {},
   "source": [
    "# Environment Setup\n",
    "Content coming soon.\n"
   ]
  }
 ],
 "metadata": {
  "language_info": {
   "name": "python"
  }
 },
 "nbformat": 4,
 "nbformat_minor": 5
}