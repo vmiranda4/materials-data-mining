{
 "cells": [
  {
   "cell_type": "markdown",
   "id": "2f0faf3e",
   "metadata": {},
   "source": [
    "# Visualizing Crystal Structures with Pymatgen and Crystal Toolkit"
   ]
  },
  {
   "cell_type": "markdown",
   "id": "0826311a",
   "metadata": {},
   "source": [
    "In this tutorial, we will learn how to visualize and explore crystal structures using two powerful Python-based tools:\n",
    "\n",
    "- [Pymatgen](https://pymatgen.org/): a Python library for materials analysis.\n",
    "- [Crystal Toolkit](https://docs.crystaltoolkit.org/): an interactive visualization tool integrated with pymatgen,\n",
    "\n",
    "We will start from the `.cif` file we downloaded in the previous tutorial from Materials Project, load it into Python, inspect its properties, and visualize it interactively.\n",
    "\n",
    "```{note}\n",
    "This tutorial assumes you have already completed the previous step where we downloaded a `.cif` file from Materials Project. If not, please revisit the tutorial: [Exploring Materials Project](../materials_project/exploring_materials_project.ipynb)\n",
    "```"
   ]
  },
  {
   "cell_type": "markdown",
   "id": "033a920a",
   "metadata": {},
   "source": [
    "## Step 1 - Setting up and Opening the Structure\n",
    "Before working with crystal data, we need to use Python libraries that help us read and analize it. One such library is **pymatgen**.\n",
    "\n",
    "### What does \"importing a library\" mean?\n",
    "In Python, a library is a collection of pre-written code that provides useful functions. Instead of writing everything from scratch, we import a library and reuse its tools.\n",
    "\n",
    "For this tutorial, we will import the `Structure` class from pymatgen, which let us work directly with crystallographic structures\n",
    "\n"
   ]
  },
  {
   "cell_type": "code",
   "execution_count": 1,
   "id": "40316a57",
   "metadata": {},
   "outputs": [],
   "source": [
    "from pymatgen.core import Structure"
   ]
  },
  {
   "cell_type": "markdown",
   "id": "0309a84d",
   "metadata": {},
   "source": [
    "Now we can use the `Structure` class to open our `.cif` file."
   ]
  },
  {
   "cell_type": "markdown",
   "id": "61d5fb9c",
   "metadata": {},
   "source": [
    "### Loading a `.cif` File\n",
    "\n",
    "A `.cif` file (Crystallographic Information File) contains:\n",
    "\n",
    "- The shape and size of the unit cell (lattice parameters)\n",
    "- The atomic positions inside the crystal\n",
    "- Symmetry information and space group\n",
    "\n",
    "Let us load the `.cif` file into Python:"
   ]
  },
  {
   "cell_type": "code",
   "execution_count": 2,
   "id": "18c382c3",
   "metadata": {},
   "outputs": [
    {
     "data": {
      "text/plain": [
       "Structure Summary\n",
       "Lattice\n",
       "    abc : 5.37204886 5.46279649 7.63635962\n",
       " angles : 90.0 90.0 90.0\n",
       " volume : 224.09973769300066\n",
       "      A : np.float64(5.37204886) np.float64(0.0) np.float64(3.2894312206310936e-16)\n",
       "      B : np.float64(8.784846766143028e-16) np.float64(5.46279649) np.float64(3.344998117935948e-16)\n",
       "      C : np.float64(0.0) np.float64(0.0) np.float64(7.63635962)\n",
       "    pbc : True True True\n",
       "PeriodicSite: Ca0 (Ca2+) (2.735, 2.963, 5.727) [0.5091, 0.5424, 0.75]\n",
       "PeriodicSite: Ca1 (Ca2+) (2.637, 2.5, 1.909) [0.4909, 0.4576, 0.25]\n",
       "PeriodicSite: Ca2 (Ca2+) (5.323, 0.2316, 5.727) [0.9909, 0.0424, 0.75]\n",
       "PeriodicSite: Ca3 (Ca2+) (0.04871, 5.231, 1.909) [0.009067, 0.9576, 0.25]\n",
       "PeriodicSite: Ti4 (Ti4+) (4.392e-16, 2.731, 3.818) [0.0, 0.5, 0.5]\n",
       "PeriodicSite: Ti5 (Ti4+) (4.392e-16, 2.731, 1.672e-16) [0.0, 0.5, 0.0]\n",
       "PeriodicSite: Ti6 (Ti4+) (2.686, 0.0, 3.818) [0.5, 0.0, 0.5]\n",
       "PeriodicSite: Ti7 (Ti4+) (2.686, 0.0, 1.645e-16) [0.5, 0.0, 0.0]\n",
       "PeriodicSite: O8 (O2-) (0.4125, 2.629, 5.727) [0.07678, 0.4813, 0.75]\n",
       "PeriodicSite: O9 (O2-) (4.96, 2.833, 1.909) [0.9232, 0.5187, 0.25]\n",
       "PeriodicSite: O10 (O2-) (2.274, 5.361, 5.727) [0.4232, 0.9813, 0.75]\n",
       "PeriodicSite: O11 (O2-) (3.098, 0.102, 1.909) [0.5768, 0.01867, 0.25]\n",
       "PeriodicSite: O12 (O2-) (4.245, 4.313, 7.33) [0.7903, 0.7896, 0.9598]\n",
       "PeriodicSite: O13 (O2-) (1.127, 1.149, 3.512) [0.2097, 0.2104, 0.4598]\n",
       "PeriodicSite: O14 (O2-) (1.127, 1.149, 0.3067) [0.2097, 0.2104, 0.04016]\n",
       "PeriodicSite: O15 (O2-) (4.245, 4.313, 4.125) [0.7903, 0.7896, 0.5402]\n",
       "PeriodicSite: O16 (O2-) (3.813, 1.582, 7.33) [0.7097, 0.2896, 0.9598]\n",
       "PeriodicSite: O17 (O2-) (1.559, 3.881, 3.512) [0.2903, 0.7104, 0.4598]\n",
       "PeriodicSite: O18 (O2-) (1.559, 3.881, 0.3067) [0.2903, 0.7104, 0.04016]\n",
       "PeriodicSite: O19 (O2-) (3.813, 1.582, 4.125) [0.7097, 0.2896, 0.5402]"
      ]
     },
     "execution_count": 2,
     "metadata": {},
     "output_type": "execute_result"
    }
   ],
   "source": [
    "# Replace this filename with your downloaded CIF file if different\n",
    "structure = Structure.from_file(\"CaTiO3.cif\")\n",
    "\n",
    "# Display basic structure info\n",
    "structure"
   ]
  },
  {
   "cell_type": "markdown",
   "id": "a28f5e93",
   "metadata": {},
   "source": [
    "```{tip}\n",
    "Think of this step as **opening a 3D model** of your material in Python.  \n",
    "We’re now ready to explore its properties.\n",
    "```"
   ]
  },
  {
   "cell_type": "markdown",
   "id": "6795298a",
   "metadata": {},
   "source": [
    "## Step 2 - Exploring Structure Properites\n",
    "\n",
    "Once we have the structure loaded, we can ask Python to give us details about it. Let us check the formula, lattice parameters, symmetry, and atomic positions."
   ]
  },
  {
   "cell_type": "code",
   "execution_count": null,
   "id": "af21d12c",
   "metadata": {},
   "outputs": [
    {
     "name": "stdout",
     "output_type": "stream",
     "text": [
      "Formula: Ca4 Ti4 O12\n",
      "Lattice parameters: 5.372049 0.000000 0.000000\n",
      "0.000000 5.462796 0.000000\n",
      "0.000000 0.000000 7.636360\n",
      "Space group: ('Pnma', 62)\n",
      "Number of atomic sites: 20\n",
      "\n",
      "Fractional atomic coordinates:\n"
     ]
    },
    {
     "data": {
      "text/plain": [
       "array([[0.50906691, 0.54239755, 0.75      ],\n",
       "       [0.49093309, 0.45760245, 0.25      ],\n",
       "       [0.99093309, 0.04239755, 0.75      ],\n",
       "       [0.00906691, 0.95760245, 0.25      ],\n",
       "       [0.        , 0.5       , 0.5       ],\n",
       "       [0.        , 0.5       , 0.        ],\n",
       "       [0.5       , 0.        , 0.5       ],\n",
       "       [0.5       , 0.        , 0.        ],\n",
       "       [0.07678111, 0.48132762, 0.75      ],\n",
       "       [0.92321889, 0.51867238, 0.25      ],\n",
       "       [0.42321889, 0.98132762, 0.75      ],\n",
       "       [0.57678111, 0.01867238, 0.25      ],\n",
       "       [0.79029372, 0.78961378, 0.95984128],\n",
       "       [0.20970628, 0.21038622, 0.45984128],\n",
       "       [0.20970628, 0.21038622, 0.04015872],\n",
       "       [0.79029372, 0.78961378, 0.54015872],\n",
       "       [0.70970628, 0.28961378, 0.95984128],\n",
       "       [0.29029372, 0.71038622, 0.45984128],\n",
       "       [0.29029372, 0.71038622, 0.04015872],\n",
       "       [0.70970628, 0.28961378, 0.54015872]])"
      ]
     },
     "execution_count": 3,
     "metadata": {},
     "output_type": "execute_result"
    }
   ],
   "source": [
    "print(\"Formula:\", structure.formula)\n",
    "print(\"Lattice parameters:\", structure.lattice)\n",
    "print(\"Volume:\", structure.volume)\n",
    "print(\"Density:\", structure.density)\n",
    "print(\"Space group:\", structure.get_space_group_info())\n",
    "print(\"Number of atomic sites:\", len(structure.sites))\n",
    "\n",
    "print(\"\\nFractional atomic coordinates:\")\n",
    "structure.frac_coords"
   ]
  },
  {
   "cell_type": "markdown",
   "id": "dae42947",
   "metadata": {},
   "source": [
    "```{note}\n",
    "These properties are essential in materials science because they define **how atoms are arranged** in the material, which directly affects its physical and chemical properties."
   ]
  },
  {
   "cell_type": "code",
   "execution_count": 4,
   "id": "49c4650b",
   "metadata": {},
   "outputs": [
    {
     "data": {
      "text/plain": [
       "224.09973769300066"
      ]
     },
     "execution_count": 4,
     "metadata": {},
     "output_type": "execute_result"
    }
   ],
   "source": [
    "structure.volume"
   ]
  },
  {
   "cell_type": "code",
   "execution_count": 5,
   "id": "442414cb",
   "metadata": {},
   "outputs": [
    {
     "name": "stdout",
     "output_type": "stream",
     "text": [
      "Full Formula (Ca4 Ti4 O12)\n",
      "Reduced Formula: CaTiO3\n",
      "abc   :   5.372049   5.462796   7.636360\n",
      "angles:  90.000000  90.000000  90.000000\n",
      "pbc   :       True       True       True\n",
      "Sites (20)\n",
      "  #  SP           a         b         c\n",
      "---  ----  --------  --------  --------\n",
      "  0  Ca2+  0.509067  0.542398  0.75\n",
      "  1  Ca2+  0.490933  0.457602  0.25\n",
      "  2  Ca2+  0.990933  0.042398  0.75\n",
      "  3  Ca2+  0.009067  0.957602  0.25\n",
      "  4  Ti4+  0         0.5       0.5\n",
      "  5  Ti4+  0         0.5       0\n",
      "  6  Ti4+  0.5       0         0.5\n",
      "  7  Ti4+  0.5       0         0\n",
      "  8  O2-   0.076781  0.481328  0.75\n",
      "  9  O2-   0.923219  0.518672  0.25\n",
      " 10  O2-   0.423219  0.981328  0.75\n",
      " 11  O2-   0.576781  0.018672  0.25\n",
      " 12  O2-   0.790294  0.789614  0.959841\n",
      " 13  O2-   0.209706  0.210386  0.459841\n",
      " 14  O2-   0.209706  0.210386  0.040159\n",
      " 15  O2-   0.790294  0.789614  0.540159\n",
      " 16  O2-   0.709706  0.289614  0.959841\n",
      " 17  O2-   0.290294  0.710386  0.459841\n",
      " 18  O2-   0.290294  0.710386  0.040159\n",
      " 19  O2-   0.709706  0.289614  0.540159\n"
     ]
    }
   ],
   "source": [
    "print(structure)"
   ]
  },
  {
   "cell_type": "markdown",
   "id": "0f6e483c",
   "metadata": {},
   "source": [
    "## Step 3 - Visualizing the Structure\n",
    "\n",
    "Seeing numbers is useful, but visualizing the structure makes it easier to understand\n",
    "\n",
    "### Interactive Visualization with Crystal Toolkit\n",
    "\n",
    "Crystal Toolkit allows us to create an interactive 3D visualization of the structure directly inside the Jupyter notebook."
   ]
  },
  {
   "cell_type": "code",
   "execution_count": 4,
   "id": "b9c1d3ec",
   "metadata": {},
   "outputs": [
    {
     "name": "stderr",
     "output_type": "stream",
     "text": [
      "/home/paladin/anaconda3/envs/matdata/lib/python3.11/site-packages/tqdm/auto.py:21: TqdmWarning: IProgress not found. Please update jupyter and ipywidgets. See https://ipywidgets.readthedocs.io/en/stable/user_install.html\n",
      "  from .autonotebook import tqdm as notebook_tqdm\n"
     ]
    }
   ],
   "source": [
    "from pymatgen.core.structure import Structure\n",
    "import crystal_toolkit\n",
    "\n",
    "# Load the CIF file\n",
    "CaTiO3 = Structure.from_file(\"CaTiO3.cif\")"
   ]
  },
  {
   "cell_type": "code",
   "execution_count": 5,
   "id": "1ab2f87c",
   "metadata": {},
   "outputs": [
    {
     "data": {
      "text/html": [
       "\n",
       "        <iframe\n",
       "            width=\"100%\"\n",
       "            height=\"650\"\n",
       "            src=\"http://127.0.0.1:8884/\"\n",
       "            frameborder=\"0\"\n",
       "            allowfullscreen\n",
       "            \n",
       "        ></iframe>\n",
       "        "
      ],
      "text/plain": [
       "<IPython.lib.display.IFrame at 0x7c4caf004310>"
      ]
     },
     "metadata": {},
     "output_type": "display_data"
    }
   ],
   "source": [
    "CaTiO3"
   ]
  },
  {
   "cell_type": "code",
   "execution_count": 6,
   "id": "cb59000e",
   "metadata": {},
   "outputs": [
    {
     "name": "stdout",
     "output_type": "stream",
     "text": [
      "Full Formula (Ca4 Ti4 O12)\n",
      "Reduced Formula: CaTiO3\n",
      "abc   :   5.372049   5.462796   7.636360\n",
      "angles:  90.000000  90.000000  90.000000\n",
      "pbc   :       True       True       True\n",
      "Sites (20)\n",
      "  #  SP           a         b         c\n",
      "---  ----  --------  --------  --------\n",
      "  0  Ca2+  0.509067  0.542398  0.75\n",
      "  1  Ca2+  0.490933  0.457602  0.25\n",
      "  2  Ca2+  0.990933  0.042398  0.75\n",
      "  3  Ca2+  0.009067  0.957602  0.25\n",
      "  4  Ti4+  0         0.5       0.5\n",
      "  5  Ti4+  0         0.5       0\n",
      "  6  Ti4+  0.5       0         0.5\n",
      "  7  Ti4+  0.5       0         0\n",
      "  8  O2-   0.076781  0.481328  0.75\n",
      "  9  O2-   0.923219  0.518672  0.25\n",
      " 10  O2-   0.423219  0.981328  0.75\n",
      " 11  O2-   0.576781  0.018672  0.25\n",
      " 12  O2-   0.790294  0.789614  0.959841\n",
      " 13  O2-   0.209706  0.210386  0.459841\n",
      " 14  O2-   0.209706  0.210386  0.040159\n",
      " 15  O2-   0.790294  0.789614  0.540159\n",
      " 16  O2-   0.709706  0.289614  0.959841\n",
      " 17  O2-   0.290294  0.710386  0.459841\n",
      " 18  O2-   0.290294  0.710386  0.040159\n",
      " 19  O2-   0.709706  0.289614  0.540159\n"
     ]
    }
   ],
   "source": [
    "print(CaTiO3)"
   ]
  }
 ],
 "metadata": {
  "kernelspec": {
   "display_name": "matdata",
   "language": "python",
   "name": "python3"
  },
  "language_info": {
   "codemirror_mode": {
    "name": "ipython",
    "version": 3
   },
   "file_extension": ".py",
   "mimetype": "text/x-python",
   "name": "python",
   "nbconvert_exporter": "python",
   "pygments_lexer": "ipython3",
   "version": "3.11.13"
  }
 },
 "nbformat": 4,
 "nbformat_minor": 5
}
