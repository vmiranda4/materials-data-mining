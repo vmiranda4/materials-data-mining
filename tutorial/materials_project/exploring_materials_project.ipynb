{
 "cells": [
  {
   "cell_type": "markdown",
   "id": "50b1559b",
   "metadata": {},
   "source": [
    "# Meeting Materials Project"
   ]
  },
  {
   "cell_type": "markdown",
   "id": "0acc19d5",
   "metadata": {},
   "source": [
    "## Step 1 - Register or Log In\n",
    "\n",
    "To obtain the structures of the materials we want to study, we will use the [Materials Project](https://next-gen.materialsproject.org/), a comprehensive open-access database for computational materials science.\n",
    "\n",
    "Before accessing data through code, we will first explore it manually to better understand its interface and capabilities.\n",
    "\n",
    "1. Open the [Materials Project](https://next-gen.materialsproject.org/) in your browser.\n",
    "2. Click on the **green \"Login or Register\"** button at the top right of the page.\n",
    "\n",
    "<img src=\"../_static/images/materials_project/1_open_mp.png\" width=700 style=margin:auto/>\n",
    "\n",
    "3. If you already have an account, sign in with your credentials. Otherwise, create a new account by following the instructions provided on the website\n",
    "\n",
    "```{tip}\n",
    "tip: registering is required if you plan to use the **API** later in this tutorial to query data directly from Python\n",
    "```"
   ]
  },
  {
   "cell_type": "markdown",
   "id": "78923b76",
   "metadata": {},
   "source": [
    "## Step 2 - Exploring Materials\n",
    "\n",
    "Once logged in, click the **\"Start Exploring Materials\"** button on the homepage.\n",
    "\n",
    "<img src=\"../_static/images/materials_project/2_after_login.png\" width=700 style=margin:auto/>\n",
    "\n",
    "You will be redirected to the **exploration interface**, which consists of:\n",
    "- A **search bar** where you can directly enter a material's chemical formula or composition.\n",
    "- An interactive periodic table where you can select elements and explore all possible compounds containing them.\n",
    "\n",
    "<img src=\"../_static/images/materials_project/3_exploration_interface.png\" width=700 style=margin:auto/>\n",
    "\n",
    "For this example, we will search for $\\text{CaTiO}_3$:\n",
    "\n",
    "1. Type `CaTiO3` in the search bar and hit **Enter**.\n",
    "2. A list of results matching your query will appear.\n",
    "3. On the left side, you will notice filtering options (e.g, by symmetry, space group, bandgap).\n",
    "\n",
    "```{important}\n",
    "Pause and explore: take a moment to play with the filters. This is a powerful feature to narrow down results for specific applications.\n",
    "```\n",
    "\n",
    "For now, click on the **first entry** under the **\"Material ID\"** columna, labeled **mp-4019**.\n",
    "\n",
    "<img src=\"../_static/images/materials_project/4_search_result.png\" width=700 style=margin:auto/>\n"
   ]
  },
  {
   "cell_type": "markdown",
   "id": "7b510519",
   "metadata": {},
   "source": [
    "## Step 3 - Dowloading the Structure\n",
    "\n",
    "Once you are on the material's detail page, you will see a **visualization** of the structure alongside a computed properties.\n",
    "\n",
    "To download the crystallographic information file (`.cif`):\n",
    "\n",
    "1. Locate the **visualization box** at the top of the page.\n",
    "2. Click the **last icon** on the top-right of that box -- it is highlighted in blue in the figure below.\n",
    "3. Save the `.cif` file somewhere convenient. We will use it later when we start coding.\n",
    "\n",
    "<img src=\"../_static/images/materials_project/5_download_structure.png\" width=700 style=margin:auto/>"
   ]
  },
  {
   "cell_type": "markdown",
   "id": "61b06bf6",
   "metadata": {},
   "source": [
    "## Step 4 - Exploring Materials Properites\n",
    "\n",
    "One of the most valuable features of Materials Project is the computed properties available for each material. In the left-hand **Table of Contents** menu, you will find categories such as:\n",
    "\n",
    "- Summary\n",
    "- Crystal Structure\n",
    "- Properties\n",
    "- Contributed Data\n",
    "- Literature References\n",
    "- External Links\n",
    "- More\n",
    "- Related Materials.\n",
    "\n",
    "We will focus on the properties section.\n",
    "\n",
    "<img src=\"../_static/images/materials_project/6_properties_section.png\" width=700 style=margin:auto/>"
   ]
  },
  {
   "cell_type": "markdown",
   "id": "c9d03a09",
   "metadata": {},
   "source": [
    "### 4.1 Phase Diagram\n",
    "\n",
    "Navigate to **Properties -> Generate Phase Diagram** and click the **Generate** button.\n",
    "After a moment, you will see an **interactive phase diagram**.\n",
    "\n",
    "<img src=\"../_static/images/materials_project/7_phase_diagram.png\" width=700 style=margin:auto/>\n",
    "\n",
    "```{note}\n",
    "Interpretation\n",
    "- Stable phases are highlighted in green.\n",
    "- Unstable plases appear as red diamonds.\n",
    "- The stable compounds tend to cluster at the bottom, between titanium and oxygen, meaning these elements often form stable oxides.\n",
    "- Notice that there are no stable compounds formed solely by titanium and calcium.\n",
    "- Our material, $\\text{CaTiO}_3$ is identified as stable.\n",
    "```"
   ]
  },
  {
   "cell_type": "markdown",
   "id": "09e24b2a",
   "metadata": {},
   "source": [
    "### 4.2 Formation energy\n",
    "\n",
    "The **formation energy** tells us how thermodynamically favorable it is for a compound to form.\n",
    "\n",
    "- Lower formation energy $\\rightarrow$ more stable compoudn.\n",
    "- In this example, stable phases typically have formation energies around $-3\\text{eV}$.\n",
    "- Unstable phases (red diamonds) have higher formation energies, often greater that $-2 \\text{eV}$.\n",
    "\n",
    "This relationship is visible directly in the phase diagram."
   ]
  },
  {
   "cell_type": "markdown",
   "id": "bf597de5",
   "metadata": {},
   "source": [
    "### 4.3 Electronic Structure: Band Gap and DOS\n",
    "\n",
    "Now click on **Electronic Structure** in the left menu. You will find two key plots:\n",
    "\n",
    "- **Band Structure**:\n",
    "    Shows the **valence band** (bottom) and the **conduction band** (top).\n",
    "    The **band gap** is the energy region between them where no electronic states exist.\n",
    "\n",
    "    For $\\text{CaTiO}3$, the band gap is approximately $2.31 \\text{eV}$, meaning it behaves as a **semiconductor**.\n",
    "\n",
    "- **Density of stated (DOS)**:\n",
    "    Reveals how electronic states are distributed among elements and orbitals.\n",
    "\n",
    "    Here we observe that:\n",
    "\n",
    "    - Oxygen contributes maintly to the valence band.\n",
    "    - Calcium and titanium dominate the conduction band.\n",
    "\n",
    "<img src=\"../_static/images/materials_project/8_band_DOS.png\" width=700 style=margin:auto/>\n",
    "\n",
    "```{note}\n",
    "Reflection\n",
    "\n",
    "This separation between valence and conduction contributions is a commmon trend: anions (like oxygen) dominate the valence band and cations (like calcium and titanium) dominate the conduction band.\n",
    "```"
   ]
  },
  {
   "cell_type": "markdown",
   "id": "afc353c0",
   "metadata": {},
   "source": [
    "## Step 5 - Key Takeaways\n",
    "\n",
    "- Materials Project offers a huge database of computed material properties.\n",
    "- We learned how to:\n",
    "    - Search for a material\n",
    "    - Download its `.cif` structure.\n",
    "    - Analyze phase stability, formation energies, and electronic properties.\n",
    "- Understanding the website's interface will make it easier to use its API later for automated data mining."
   ]
  },
  {
   "cell_type": "markdown",
   "id": "9ab1a711",
   "metadata": {},
   "source": [
    "### Next Steps\n",
    "\n",
    "In the following notebook, we’ll move from manual exploration to coding — using Python to query data directly from Materials Project and perform structured analyses."
   ]
  }
 ],
 "metadata": {
  "language_info": {
   "name": "python"
  }
 },
 "nbformat": 4,
 "nbformat_minor": 5
}
